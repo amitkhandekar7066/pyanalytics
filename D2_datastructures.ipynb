{
 "cells": [
  {
   "cell_type": "markdown",
   "id": "b0b55fbf-b297-4fe7-9d02-3d8c320b60ff",
   "metadata": {},
   "source": [
    "# Data Structure in Python : Day2\n",
    "-  List\n",
    "-  Tuple"
   ]
  },
  {
   "cell_type": "code",
   "execution_count": null,
   "id": "61670fad-e3aa-4e2c-a1d9-a6414a63ee5d",
   "metadata": {},
   "outputs": [],
   "source": []
  }
 ],
 "metadata": {
  "kernelspec": {
   "display_name": "Python 3 (ipykernel)",
   "language": "python",
   "name": "python3"
  },
  "language_info": {
   "codemirror_mode": {
    "name": "ipython",
    "version": 3
   },
   "file_extension": ".py",
   "mimetype": "text/x-python",
   "name": "python",
   "nbconvert_exporter": "python",
   "pygments_lexer": "ipython3",
   "version": "3.11.5"
  }
 },
 "nbformat": 4,
 "nbformat_minor": 5
}

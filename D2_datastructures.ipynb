{
 "cells": [
  {
   "cell_type": "markdown",
   "id": "b0b55fbf-b297-4fe7-9d02-3d8c320b60ff",
   "metadata": {},
   "source": [
    "# Data Structure in Python : Day2\n",
    "-  List\n",
    "-  Tuple\n",
    "-  Set\n",
    "-  Dictonary \n",
    "-  String\n",
    "-  https://stackoverflow.com/search?q=how+to+creat+list+in+python+&s=a8953dbd-0a9d-4a6c-af75-2bd788ea36ea"
   ]
  },
  {
   "cell_type": "markdown",
   "id": "fbb7fd1b-83dd-4d4d-a43b-c4450c9aebe6",
   "metadata": {},
   "source": [
    "## List"
   ]
  },
  {
   "cell_type": "code",
   "execution_count": 13,
   "id": "299b4eae-45e3-4504-be66-af224ad79ad1",
   "metadata": {
    "tags": []
   },
   "outputs": [],
   "source": [
    "x= [1,2,3,4,5,6,7,8,9,10,11,12,13,14,15]"
   ]
  },
  {
   "cell_type": "code",
   "execution_count": 14,
   "id": "ea1fc042-7cdb-4334-b2ea-c37906f70ed1",
   "metadata": {
    "tags": []
   },
   "outputs": [
    {
     "data": {
      "text/plain": [
       "[1, 2, 3, 4, 5, 6, 7, 8, 9, 10, 11, 12, 13, 14, 15]"
      ]
     },
     "execution_count": 14,
     "metadata": {},
     "output_type": "execute_result"
    }
   ],
   "source": [
    "x"
   ]
  },
  {
   "cell_type": "code",
   "execution_count": 20,
   "id": "9179b4bb-2cbe-4d5d-85a4-89e39f39fd78",
   "metadata": {
    "tags": []
   },
   "outputs": [
    {
     "name": "stdout",
     "output_type": "stream",
     "text": [
      "[1, 2, 3, 4, 5, 6, 7, 8, 9, 10, 11, 12, 13, 14, 15]\n"
     ]
    }
   ],
   "source": [
    "print(x)"
   ]
  },
  {
   "cell_type": "code",
   "execution_count": 23,
   "id": "84746b23-525d-4cbb-a9c2-ba6c71f6b697",
   "metadata": {
    "tags": []
   },
   "outputs": [
    {
     "data": {
      "text/plain": [
       "15"
      ]
     },
     "execution_count": 23,
     "metadata": {},
     "output_type": "execute_result"
    }
   ],
   "source": [
    "len(x)"
   ]
  },
  {
   "cell_type": "code",
   "execution_count": 26,
   "id": "fc722af8-7440-4999-a821-f5fe21918b5e",
   "metadata": {
    "tags": []
   },
   "outputs": [
    {
     "data": {
      "text/plain": [
       "120"
      ]
     },
     "execution_count": 26,
     "metadata": {},
     "output_type": "execute_result"
    }
   ],
   "source": [
    "sum(x)"
   ]
  },
  {
   "cell_type": "code",
   "execution_count": 27,
   "id": "f204f094-f873-46a1-ac6f-9427fd95c1a0",
   "metadata": {
    "tags": []
   },
   "outputs": [
    {
     "data": {
      "text/plain": [
       "[1, 2, 3, 4, 5, 6, 7, 8, 9]"
      ]
     },
     "execution_count": 27,
     "metadata": {},
     "output_type": "execute_result"
    }
   ],
   "source": [
    "x[0:9]"
   ]
  },
  {
   "cell_type": "code",
   "execution_count": 28,
   "id": "f202ccce-a164-4431-9aec-db62e7e1b0ed",
   "metadata": {
    "tags": []
   },
   "outputs": [
    {
     "data": {
      "text/plain": [
       "\u001b[1;31mDocstring:\u001b[0m\n",
       "dir([object]) -> list of strings\n",
       "\n",
       "If called without an argument, return the names in the current scope.\n",
       "Else, return an alphabetized list of names comprising (some of) the attributes\n",
       "of the given object, and of attributes reachable from it.\n",
       "If the object supplies a method named __dir__, it will be used; otherwise\n",
       "the default dir() logic is used and returns:\n",
       "  for a module object: the module's attributes.\n",
       "  for a class object:  its attributes, and recursively the attributes\n",
       "    of its bases.\n",
       "  for any other object: its attributes, its class's attributes, and\n",
       "    recursively the attributes of its class's base classes.\n",
       "\u001b[1;31mType:\u001b[0m      builtin_function_or_method"
      ]
     },
     "metadata": {},
     "output_type": "display_data"
    }
   ],
   "source": [
    "dir?\n"
   ]
  },
  {
   "cell_type": "code",
   "execution_count": 35,
   "id": "3eb7df70-d1ad-44ac-9129-75f7a28c46ce",
   "metadata": {
    "tags": []
   },
   "outputs": [
    {
     "data": {
      "text/plain": [
       "'__add__,__class__,__class_getitem__,__contains__,__delattr__,__delitem__,__dir__,__doc__,__eq__,__format__,__ge__,__getattribute__,__getitem__,__getstate__,__gt__,__hash__,__iadd__,__imul__,__init__,__init_subclass__,__iter__,__le__,__len__,__lt__,__mul__,__ne__,__new__,__reduce__,__reduce_ex__,__repr__,__reversed__,__rmul__,__setattr__,__setitem__,__sizeof__,__str__,__subclasshook__,append,clear,copy,count,extend,index,insert,pop,remove,reverse,sort'"
      ]
     },
     "execution_count": 35,
     "metadata": {},
     "output_type": "execute_result"
    }
   ],
   "source": [
    "','.join(dir(x))"
   ]
  },
  {
   "cell_type": "code",
   "execution_count": 33,
   "id": "531daf50-2944-489f-bebd-f98e13621c85",
   "metadata": {
    "tags": []
   },
   "outputs": [
    {
     "data": {
      "text/plain": [
       "[1, 2, 3, 4, 5, 6, 7, 8, 9, 10, 11, 12, 13, 14, 15]"
      ]
     },
     "execution_count": 33,
     "metadata": {},
     "output_type": "execute_result"
    }
   ],
   "source": [
    "x"
   ]
  },
  {
   "cell_type": "code",
   "execution_count": 43,
   "id": "afc4208b-2bc1-4cb8-a148-090de436c950",
   "metadata": {
    "tags": []
   },
   "outputs": [],
   "source": [
    "list1 = [\"amit\", \"Umesh\" ,\"Sakshi\" ]"
   ]
  },
  {
   "cell_type": "code",
   "execution_count": 44,
   "id": "fb086859-1d22-4286-9eb8-485141b1f18d",
   "metadata": {
    "tags": []
   },
   "outputs": [
    {
     "data": {
      "text/plain": [
       "['amit', 'Umesh', 'Sakshi']"
      ]
     },
     "execution_count": 44,
     "metadata": {},
     "output_type": "execute_result"
    }
   ],
   "source": [
    "list1"
   ]
  },
  {
   "cell_type": "code",
   "execution_count": 47,
   "id": "49800fdb-2712-4e6a-aa50-25feba74dbf9",
   "metadata": {
    "tags": []
   },
   "outputs": [
    {
     "data": {
      "text/plain": [
       "'__add__,__class__,__class_getitem__,__contains__,__delattr__,__delitem__,__dir__,__doc__,__eq__,__format__,__ge__,__getattribute__,__getitem__,__getstate__,__gt__,__hash__,__iadd__,__imul__,__init__,__init_subclass__,__iter__,__le__,__len__,__lt__,__mul__,__ne__,__new__,__reduce__,__reduce_ex__,__repr__,__reversed__,__rmul__,__setattr__,__setitem__,__sizeof__,__str__,__subclasshook__,append,clear,copy,count,extend,index,insert,pop,remove,reverse,sort'"
      ]
     },
     "execution_count": 47,
     "metadata": {},
     "output_type": "execute_result"
    }
   ],
   "source": [
    "','.join(dir(list1))"
   ]
  },
  {
   "cell_type": "code",
   "execution_count": null,
   "id": "e289ba56-befd-42fe-ba6b-4ae4f4cf953f",
   "metadata": {},
   "outputs": [],
   "source": []
  }
 ],
 "metadata": {
  "kernelspec": {
   "display_name": "Python 3 (ipykernel)",
   "language": "python",
   "name": "python3"
  },
  "language_info": {
   "codemirror_mode": {
    "name": "ipython",
    "version": 3
   },
   "file_extension": ".py",
   "mimetype": "text/x-python",
   "name": "python",
   "nbconvert_exporter": "python",
   "pygments_lexer": "ipython3",
   "version": "3.11.5"
  }
 },
 "nbformat": 4,
 "nbformat_minor": 5
}
